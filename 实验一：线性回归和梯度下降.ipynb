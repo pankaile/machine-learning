{
 "cells": [
  {
   "cell_type": "code",
   "execution_count": 10,
   "metadata": {},
   "outputs": [
    {
     "name": "stdout",
     "output_type": "stream",
     "text": [
      "训练集第 1 次误差： 199654.355991\n",
      "训练集第 2 次误差： 191011.193694\n",
      "训练集第 3 次误差： 182804.002799\n",
      "训练集第 4 次误差： 175010.630142\n",
      "训练集第 5 次误差： 167610.04931\n",
      "训练集第 6 次误差： 160582.303313\n",
      "训练集第 7 次误差： 153908.450179\n",
      "训练集第 8 次误差： 147570.511316\n",
      "测试集第 1 次误差： 86592.4259148\n",
      "测试集第 2 次误差： 82538.4888148\n",
      "测试集第 3 次误差： 78696.1737579\n",
      "测试集第 4 次误差： 75054.5469127\n",
      "测试集第 5 次误差： 71603.2353534\n",
      "测试集第 6 次误差： 68332.3983953\n",
      "测试集第 7 次误差： 65232.7003923\n",
      "测试集第 8 次误差： 62295.2849215\n",
      "\n",
      "w= [-1.0746391274625267, -0.78747387856637863, -0.34502018509874066, -0.88884963212441503, -0.42274620795562706, 0.16227601354617827, 0.30660644747550775, -0.54330357603097423, -0.42563050862502932, -0.30248810904994206, 0.11647441260319669, 0.97712541747820592, -0.60236011264650846, 0.0] after 8 times\n"
     ]
    },
    {
     "data": {
      "image/png": "[encoded data removed]",
      "text/plain": [
       "<matplotlib.figure.Figure at 0x11062dc18>"
      ]
     },
     "metadata": {},
     "output_type": "display_data"
    }
   ],
   "source": [
    "from sklearn.externals.joblib import Memory\n",
    "from sklearn.datasets import load_svmlight_file\n",
    "import numpy as np\n",
    "from sklearn.model_selection import train_test_split\n",
    "import matplotlib.pyplot as plt\n",
    "%matplotlib inline\n",
    "\n",
    "\n",
    "#读取数据\n",
    "def get_data():\n",
    "    data = load_svmlight_file(\"Desktop//housing_scale.txt\")\n",
    "    return data[0], data[1]\n",
    "\n",
    "\n",
    "#切分数据\n",
    "x, y = get_data()\n",
    "row=x.shape[0]\n",
    "x_train, x_test, y_train, y_test = train_test_split(x, y, test_size=0.33, random_state=42)\n",
    "\n",
    "\n",
    "#初始化为0，设置学习率和梯度下降次数\n",
    "w =[0.0,0.0,0.0,0.0,0.0,0.0,0.0,0.0,0.0,0.0,0.0,0.0,0.0,0.0]\n",
    "w0=0\n",
    "learning_rate=0.01\n",
    "num=8\n",
    "loss_train_group=[]\n",
    "loss_test_group=[]\n",
    "\n",
    "\n",
    "#计算测试集上的方差\n",
    "def test_loss():\n",
    "    test_fx=[0 for i in range(167)]\n",
    "    for i in range(0,167):\n",
    "        for j in range(0,13):\n",
    "            test_fx[i]+=w[j]*x_test[i,j]\n",
    "        test_fx[i]+=w0;\n",
    "    sum=0;\n",
    "    for i in range(167):\n",
    "        sum+=(test_fx[i]-y_test[i])*(test_fx[i]-y_test[i])\n",
    "    return sum;\n",
    "\n",
    "#计算训练集上的方差\n",
    "def train_loss():\n",
    "    train_fx=[0 for i in range(339)]\n",
    "    for i in range(0,339):\n",
    "        for j in range(0,13):\n",
    "            train_fx[i]+=w[j]*x_train[i,j]\n",
    "        train_fx[i]+=w0;\n",
    "    sum=0;\n",
    "    for i in range(339):\n",
    "        sum+=(train_fx[i]-y_train[i])*(train_fx[i]-y_train[i])\n",
    "    return sum;\n",
    "\n",
    "#梯度下降算法\n",
    "def gradient_descent():\n",
    "    mylist =[0.0,0.0,0.0,0.0,0.0,0.0,0.0,0.0,0.0,0.0,0.0,0.0,0.0]\n",
    "    for i in range(339):\n",
    "        temp_1=0\n",
    "        temp_2=0       \n",
    "        for j in range(13):\n",
    "            temp_1+=w[j]*x_train[i,j]\n",
    "        temp_2=y_train[i]-temp_1\n",
    "        for k in range(13):\n",
    "            mylist[k]+=x_train[i,k]*temp_2\n",
    "    for m in range(13):\n",
    "        mylist[m]/=row\n",
    "        w[m]=w[m]-(-learning_rate*mylist[m])\n",
    "    \n",
    "\n",
    "#执行梯度下降\n",
    "def optimizer():\n",
    "    for i in range(num):\n",
    "        gradient_descent()\n",
    "        loss_train_group.append(train_loss())\n",
    "        loss_test_group.append(test_loss())\n",
    "    for i in range(num):\n",
    "         print(\"训练集第\",i+1,\"次误差：\",loss_train_group[i])\n",
    "    for i in range(num):\n",
    "         print(\"测试集第\",i+1,\"次误差：\",loss_test_group[i])\n",
    "    print()\n",
    "    \n",
    "        \n",
    "#主函数   \n",
    "def main():\n",
    "    optimizer()\n",
    "    #画出图表\n",
    "    n = np.arange(num)\n",
    "    print(\"w=\",w,\"after 8 times\")\n",
    "    plt.plot(n,loss_train_group,label='loss_train')\n",
    "    plt.plot(n,loss_test_group,label='loss_test')\n",
    "    plt.legend(loc='upper right')\n",
    "    plt.xlabel('times')\n",
    "    plt.ylabel('loss')\n",
    "\n",
    "main()\n",
    "\n",
    "\n",
    "\n",
    "\n",
    "\n",
    "\n",
    "      "
   ]
  },
  {
   "cell_type": "code",
   "execution_count": null,
   "metadata": {
    "collapsed": true
   },
   "outputs": [],
   "source": []
  },
  {
   "cell_type": "code",
   "execution_count": null,
   "metadata": {
    "collapsed": true
   },
   "outputs": [],
   "source": []
  },
  {
   "cell_type": "code",
   "execution_count": null,
   "metadata": {
    "collapsed": true
   },
   "outputs": [],
   "source": []
  }
 ],
 "metadata": {
  "kernelspec": {
   "display_name": "Python 3",
   "language": "python",
   "name": "python3"
  },
  "language_info": {
   "codemirror_mode": {
    "name": "ipython",
    "version": 3
   },
   "file_extension": ".py",
   "mimetype": "text/x-python",
   "name": "python",
   "nbconvert_exporter": "python",
   "pygments_lexer": "ipython3",
   "version": "3.6.3"
  }
 },
 "nbformat": 4,
 "nbformat_minor": 2
}
